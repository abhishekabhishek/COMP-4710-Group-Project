{
 "cells": [
  {
   "cell_type": "markdown",
   "metadata": {},
   "source": [
    "# Python notebook for the dataset collection and pre-processing from multiple sources"
   ]
  },
  {
   "cell_type": "markdown",
   "metadata": {},
   "source": [
    "----\n",
    "\n",
    "## Initial idea\n",
    "\n",
    "Many media sites have a social network of people and their corresponding transactions in the form of books, music, etc.\n",
    "In order to predict the \"purchase\" an account will make it is useful to model their history using sequential modelling.\n",
    "\n",
    "However, many models so far have discarded the interactions and dependencies in the social network structure. Using coupled HMMs we can model the model the dependencies in the hidden states between different users."
   ]
  },
  {
   "cell_type": "markdown",
   "metadata": {},
   "source": [
    "## Step 1. Dataset gathering"
   ]
  },
  {
   "cell_type": "markdown",
   "metadata": {},
   "source": [
    "### a. Source 1 : Goodreads"
   ]
  },
  {
   "cell_type": "code",
   "execution_count": 1,
   "metadata": {},
   "outputs": [],
   "source": [
    "from goodreads import client\n",
    "gc = client.GoodreadsClient('SlgLqMjiphasqekm1RDPw', 'yMERrlbPngTd7B6BXNluEBjUCkZ3o7fNeB8omF0cMx8')"
   ]
  },
  {
   "cell_type": "markdown",
   "metadata": {},
   "source": [
    "### Testing the API"
   ]
  },
  {
   "cell_type": "code",
   "execution_count": 10,
   "metadata": {},
   "outputs": [
    {
     "name": "stdout",
     "output_type": "stream",
     "text": [
      "['__class__', '__delattr__', '__dict__', '__dir__', '__doc__', '__eq__', '__format__', '__ge__', '__getattribute__', '__gt__', '__hash__', '__init__', '__le__', '__lt__', '__module__', '__ne__', '__new__', '__reduce__', '__reduce_ex__', '__repr__', '__setattr__', '__sizeof__', '__str__', '__subclasshook__', '__weakref__', '_book_dict', '_client', 'authors', 'average_rating', 'description', 'edition_information', 'format', 'gid', 'image_url', 'is_ebook', 'isbn', 'isbn13', 'language_code', 'link', 'num_pages', 'popular_shelves', 'publication_date', 'publisher', 'rating_dist', 'ratings_count', 'reviews_widget', 'series_works', 'similar_books', 'small_image_url', 'text_reviews_count', 'title', 'work']\n",
      "Harry Potter and the Half-Blood Prince (Harry Potter, #6)\n",
      "[J.K. Rowling, Mary GrandPré]\n",
      "4.55\n"
     ]
    }
   ],
   "source": [
    "# Accessing books on the website\n",
    "book = gc.book(1)\n",
    "print(dir(book))\n",
    "print(book.title)\n",
    "print(book.authors)\n",
    "print(book.average_rating)"
   ]
  },
  {
   "cell_type": "code",
   "execution_count": 11,
   "metadata": {},
   "outputs": [
    {
     "name": "stdout",
     "output_type": "stream",
     "text": [
      "[to-read, fantasy, favorites, currently-reading, young-adult, fiction, harry-potter, books-i-own, owned, ya, series, favourites, magic, childrens, owned-books, re-read, adventure, children, j-k-rowling, children-s, childhood, sci-fi-fantasy, all-time-favorites, audiobook, my-books, default, classics, audiobooks, reread, 5-stars, middle-grade, i-own, children-s-books, favorite-books, novels, favorite, kids, fantasy-sci-fi, my-library, ya-fantasy, paranormal, read-more-than-once, teen, english, urban-fantasy, books, british, witches, jk-rowling, audio, re-reads, library, read-in-2016, mystery, ya-fiction, read-in-2017, my-favorites, supernatural, own-it, novel, harry-potter-series, childrens-books, faves, young-adult-fiction, 2005, scifi-fantasy, kindle, favorite-series, made-me-cry, wizards, bookshelf, read-in-2018, my-bookshelf, juvenile, youth, all-time-favourites, read-in-2015, romance, favourite, to-buy, rereads, 5-star, childhood-favorites, ebook, shelfari-favorites, read-in-english, favs, kids-books, on-my-shelf, coming-of-age, to-re-read, read-in-2014, children-s-literature, contemporary, favourite-books, science-fiction-fantasy, childhood-books, england, audio-books, have]\n"
     ]
    }
   ],
   "source": [
    "print(book.popular_shelves)"
   ]
  },
  {
   "cell_type": "code",
   "execution_count": 12,
   "metadata": {},
   "outputs": [
    {
     "name": "stdout",
     "output_type": "stream",
     "text": [
      "5:1325556|4:499853|3:145551|2:22837|1:8089|total:2001886\n"
     ]
    }
   ],
   "source": [
    "print(book.rating_dist)"
   ]
  },
  {
   "cell_type": "code",
   "execution_count": 3,
   "metadata": {},
   "outputs": [
    {
     "name": "stdout",
     "output_type": "stream",
     "text": [
      "elizabeth\n",
      "['__class__', '__delattr__', '__dict__', '__dir__', '__doc__', '__eq__', '__format__', '__ge__', '__getattribute__', '__gt__', '__hash__', '__init__', '__le__', '__lt__', '__module__', '__ne__', '__new__', '__reduce__', '__reduce_ex__', '__repr__', '__setattr__', '__sizeof__', '__str__', '__subclasshook__', '__weakref__', '_client', '_user_dict', 'gid', 'image_url', 'link', 'list_groups', 'name', 'owned_books', 'reviews', 'shelves', 'small_image_url', 'user_name']\n",
      "[Quotable Quotes, Southern California Events, Goodreads Author Outreach Project, Goodreads Feedback, Journalists Top Reads, Goodreads Librarians Group, Elizabeth's Child Development Reading Group, Books Of Your Life with Elizabeth, Classical music lovers, What's the Name of That Book???, Great African Reads, Stanford Book Club, Santa Monica Book Club, Silverlake Classics, 2008 Political Reading Checklist, Icelandophiles, Founders Bookclub: Elizabeth's Bookclub, Books I Loathed, Pride & Prejudice 2005 is a disgrace to Jane Austen!, Vroman's Bookstore, GoodReviews: The Official Book Review Contest, Language & Grammar, Book News!, Sign the Goodreads Holiday Card, Goodreads Status Update Writing Contest, LA Art Weekend, Opera: The Extravagant Art, T. C. Boyle fans, Alain de Botton, Q&A with Chef Eric Ripert]\n"
     ]
    }
   ],
   "source": [
    "# Accessing users on the website\n",
    "user = gc.user(5)\n",
    "print(user.user_name)\n",
    "print(dir(user))\n",
    "print(user.list_groups())"
   ]
  },
  {
   "cell_type": "code",
   "execution_count": 4,
   "metadata": {},
   "outputs": [],
   "source": [
    "#print(user.owned_books())"
   ]
  },
  {
   "cell_type": "code",
   "execution_count": 5,
   "metadata": {},
   "outputs": [
    {
     "name": "stdout",
     "output_type": "stream",
     "text": [
      "Added user with ID 1 : otis\n",
      "Added user with ID 2 : 2\n",
      "Added user with ID 3 : sickpea\n",
      "Added user with ID 4 : 4\n",
      "Added user with ID 5 : elizabeth\n",
      "Added user with ID 6 : 6\n",
      "Added user with ID 7 : sundeep\n",
      "Added user with ID 8 : evanpon\n",
      "Added user with ID 9 : 9\n",
      "Added user with ID 10 : 10\n",
      "Added user with ID 11 : Invalid\n",
      "Added user with ID 12 : 12\n",
      "Added user with ID 13 : 13\n",
      "Added user with ID 14 : grebmorb\n",
      "Added user with ID 15 : 15\n",
      "Added user with ID 16 : keaka\n",
      "Added user with ID 17 : Invalid\n",
      "Added user with ID 18 : 18\n",
      "Added user with ID 19 : benh\n",
      "Added user with ID 20 : 20\n",
      "Added user with ID 21 : zack415\n",
      "Added user with ID 22 : 22\n",
      "Added user with ID 23 : 23\n",
      "Added user with ID 24 : 24\n",
      "Added user with ID 25 : 25\n",
      "Added user with ID 26 : douglasl9\n",
      "Added user with ID 27 : 27\n",
      "Added user with ID 28 : 28\n",
      "Added user with ID 29 : 29\n",
      "Added user with ID 30 : 30\n",
      "Added user with ID 31 : 31\n",
      "Added user with ID 32 : 32\n",
      "Added user with ID 33 : 33\n",
      "Added user with ID 34 : gregveen\n",
      "Added user with ID 35 : msiliski\n",
      "Added user with ID 36 : 36\n",
      "Added user with ID 37 : 37\n",
      "Added user with ID 38 : 38\n",
      "Added user with ID 39 : Invalid\n",
      "Added user with ID 40 : 40\n",
      "Added user with ID 41 : 41\n",
      "Added user with ID 42 : 42\n",
      "Added user with ID 43 : 43\n",
      "Added user with ID 44 : 44\n",
      "Added user with ID 45 : 45\n",
      "Added user with ID 46 : 46\n",
      "Added user with ID 47 : 47\n",
      "Added user with ID 48 : Invalid\n",
      "Added user with ID 49 : 49\n"
     ]
    }
   ],
   "source": [
    "# Get valid user from the API\n",
    "user_id = 1\n",
    "user_name = 'Start'\n",
    "valid_user_names = []\n",
    "\n",
    "while user_id < 50:\n",
    "    \n",
    "    try:\n",
    "        user_name = gc.user(user_id)\n",
    "    except:\n",
    "        user_name = 'Invalid'\n",
    "        \n",
    "    valid_user_names.append(user_name)\n",
    "    print('Added user with ID %d : %s' %(user_id, user_name))\n",
    "    user_id += 1"
   ]
  },
  {
   "cell_type": "markdown",
   "metadata": {},
   "source": [
    "## Achieved\n",
    "\n",
    "1. We can access a given user with a numerical ID : 1\n",
    "2. We can list the groups a user belongs to using list_groups()\n",
    "3. We can iterate over multiple users at once and add the ids to a list\n",
    "4. Ignore the user with invalid username and can access the groups of the rest"
   ]
  },
  {
   "cell_type": "markdown",
   "metadata": {},
   "source": [
    "## Need to try to get the books the user has read or owned"
   ]
  },
  {
   "cell_type": "code",
   "execution_count": 8,
   "metadata": {},
   "outputs": [
    {
     "ename": "AttributeError",
     "evalue": "'GoodreadsClient' object has no attribute 'session'",
     "output_type": "error",
     "traceback": [
      "\u001b[1;31m---------------------------------------------------------------------------\u001b[0m",
      "\u001b[1;31mAttributeError\u001b[0m                            Traceback (most recent call last)",
      "\u001b[1;32m<ipython-input-8-96c9fe2d4ba7>\u001b[0m in \u001b[0;36m<module>\u001b[1;34m()\u001b[0m\n\u001b[0;32m      1\u001b[0m \u001b[0muser\u001b[0m \u001b[1;33m=\u001b[0m \u001b[0mgc\u001b[0m\u001b[1;33m.\u001b[0m\u001b[0muser\u001b[0m\u001b[1;33m(\u001b[0m\u001b[1;36m1\u001b[0m\u001b[1;33m)\u001b[0m\u001b[1;33m\u001b[0m\u001b[0m\n\u001b[1;32m----> 2\u001b[1;33m \u001b[0mprint\u001b[0m\u001b[1;33m(\u001b[0m\u001b[0muser\u001b[0m\u001b[1;33m.\u001b[0m\u001b[0mowned_books\u001b[0m\u001b[1;33m(\u001b[0m\u001b[1;33m)\u001b[0m\u001b[1;33m)\u001b[0m\u001b[1;33m\u001b[0m\u001b[0m\n\u001b[0m",
      "\u001b[1;32mC:\\ProgramData\\Anaconda3\\envs\\newenvt\\lib\\site-packages\\goodreads-0.3.2-py3.5.egg\\goodreads\\user.py\u001b[0m in \u001b[0;36mowned_books\u001b[1;34m(self, page)\u001b[0m\n\u001b[0;32m     63\u001b[0m         \u001b[1;34m\"\"\"Return the list of books owned by the user\"\"\"\u001b[0m\u001b[1;33m\u001b[0m\u001b[0m\n\u001b[0;32m     64\u001b[0m         \u001b[1;32mtry\u001b[0m\u001b[1;33m:\u001b[0m\u001b[1;33m\u001b[0m\u001b[0m\n\u001b[1;32m---> 65\u001b[1;33m             resp = self._client.session.get(\n\u001b[0m\u001b[0;32m     66\u001b[0m                 \u001b[1;34m'owned_books/user'\u001b[0m\u001b[1;33m,\u001b[0m\u001b[1;33m\u001b[0m\u001b[0m\n\u001b[0;32m     67\u001b[0m                 {'page': page, 'format': 'xml', 'id': self.gid})\n",
      "\u001b[1;31mAttributeError\u001b[0m: 'GoodreadsClient' object has no attribute 'session'"
     ]
    }
   ],
   "source": [
    "user = gc.user(1)\n",
    "print(user.owned_books())"
   ]
  },
  {
   "cell_type": "code",
   "execution_count": 9,
   "metadata": {},
   "outputs": [
    {
     "name": "stdout",
     "output_type": "stream",
     "text": [
      "['__class__', '__delattr__', '__dict__', '__dir__', '__doc__', '__eq__', '__format__', '__ge__', '__getattribute__', '__gt__', '__hash__', '__init__', '__le__', '__lt__', '__module__', '__ne__', '__new__', '__reduce__', '__reduce_ex__', '__repr__', '__setattr__', '__sizeof__', '__str__', '__subclasshook__', '__weakref__', 'auth_user', 'authenticate', 'author', 'base_url', 'book', 'book_review_stats', 'client_key', 'client_secret', 'find_author', 'find_groups', 'group', 'list_comments', 'list_events', 'owned_book', 'query_dict', 'recent_reviews', 'request', 'request_oauth', 'review', 'search_books', 'user']\n"
     ]
    }
   ],
   "source": [
    "print(dir(gc))"
   ]
  },
  {
   "cell_type": "code",
   "execution_count": null,
   "metadata": {},
   "outputs": [],
   "source": []
  }
 ],
 "metadata": {
  "kernelspec": {
   "display_name": "Python 3",
   "language": "python",
   "name": "python3"
  },
  "language_info": {
   "codemirror_mode": {
    "name": "ipython",
    "version": 3
   },
   "file_extension": ".py",
   "mimetype": "text/x-python",
   "name": "python",
   "nbconvert_exporter": "python",
   "pygments_lexer": "ipython3",
   "version": "3.5.5"
  }
 },
 "nbformat": 4,
 "nbformat_minor": 2
}
